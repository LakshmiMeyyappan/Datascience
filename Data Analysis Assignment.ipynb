{
 "cells": [
  {
   "cell_type": "markdown",
   "id": "20729ad7",
   "metadata": {},
   "source": [
    "## Inferential Analysis Assignment"
   ]
  },
  {
   "cell_type": "code",
   "execution_count": 1,
   "id": "869c7a27",
   "metadata": {},
   "outputs": [],
   "source": [
    "import pandas as pd"
   ]
  },
  {
   "cell_type": "code",
   "execution_count": 2,
   "id": "4f08d4e1",
   "metadata": {},
   "outputs": [],
   "source": [
    "dataset=pd.read_csv(\"Placement.csv\")"
   ]
  },
  {
   "cell_type": "code",
   "execution_count": 3,
   "id": "23fb5ee3",
   "metadata": {},
   "outputs": [
    {
     "data": {
      "text/html": [
       "<div>\n",
       "<style scoped>\n",
       "    .dataframe tbody tr th:only-of-type {\n",
       "        vertical-align: middle;\n",
       "    }\n",
       "\n",
       "    .dataframe tbody tr th {\n",
       "        vertical-align: top;\n",
       "    }\n",
       "\n",
       "    .dataframe thead th {\n",
       "        text-align: right;\n",
       "    }\n",
       "</style>\n",
       "<table border=\"1\" class=\"dataframe\">\n",
       "  <thead>\n",
       "    <tr style=\"text-align: right;\">\n",
       "      <th></th>\n",
       "      <th>sl_no</th>\n",
       "      <th>gender</th>\n",
       "      <th>ssc_p</th>\n",
       "      <th>ssc_b</th>\n",
       "      <th>hsc_p</th>\n",
       "      <th>hsc_b</th>\n",
       "      <th>hsc_s</th>\n",
       "      <th>degree_p</th>\n",
       "      <th>degree_t</th>\n",
       "      <th>workex</th>\n",
       "      <th>etest_p</th>\n",
       "      <th>specialisation</th>\n",
       "      <th>mba_p</th>\n",
       "      <th>status</th>\n",
       "      <th>salary</th>\n",
       "    </tr>\n",
       "  </thead>\n",
       "  <tbody>\n",
       "    <tr>\n",
       "      <th>0</th>\n",
       "      <td>1</td>\n",
       "      <td>M</td>\n",
       "      <td>67.00</td>\n",
       "      <td>Others</td>\n",
       "      <td>91.00</td>\n",
       "      <td>Others</td>\n",
       "      <td>Commerce</td>\n",
       "      <td>58.00</td>\n",
       "      <td>Sci&amp;Tech</td>\n",
       "      <td>No</td>\n",
       "      <td>55.0</td>\n",
       "      <td>Mkt&amp;HR</td>\n",
       "      <td>58.80</td>\n",
       "      <td>Placed</td>\n",
       "      <td>270000.0</td>\n",
       "    </tr>\n",
       "    <tr>\n",
       "      <th>1</th>\n",
       "      <td>2</td>\n",
       "      <td>M</td>\n",
       "      <td>79.33</td>\n",
       "      <td>Central</td>\n",
       "      <td>78.33</td>\n",
       "      <td>Others</td>\n",
       "      <td>Science</td>\n",
       "      <td>77.48</td>\n",
       "      <td>Sci&amp;Tech</td>\n",
       "      <td>Yes</td>\n",
       "      <td>86.5</td>\n",
       "      <td>Mkt&amp;Fin</td>\n",
       "      <td>66.28</td>\n",
       "      <td>Placed</td>\n",
       "      <td>200000.0</td>\n",
       "    </tr>\n",
       "    <tr>\n",
       "      <th>2</th>\n",
       "      <td>3</td>\n",
       "      <td>M</td>\n",
       "      <td>65.00</td>\n",
       "      <td>Central</td>\n",
       "      <td>68.00</td>\n",
       "      <td>Central</td>\n",
       "      <td>Arts</td>\n",
       "      <td>64.00</td>\n",
       "      <td>Comm&amp;Mgmt</td>\n",
       "      <td>No</td>\n",
       "      <td>75.0</td>\n",
       "      <td>Mkt&amp;Fin</td>\n",
       "      <td>57.80</td>\n",
       "      <td>Placed</td>\n",
       "      <td>250000.0</td>\n",
       "    </tr>\n",
       "    <tr>\n",
       "      <th>3</th>\n",
       "      <td>4</td>\n",
       "      <td>M</td>\n",
       "      <td>56.00</td>\n",
       "      <td>Central</td>\n",
       "      <td>52.00</td>\n",
       "      <td>Central</td>\n",
       "      <td>Science</td>\n",
       "      <td>52.00</td>\n",
       "      <td>Sci&amp;Tech</td>\n",
       "      <td>No</td>\n",
       "      <td>66.0</td>\n",
       "      <td>Mkt&amp;HR</td>\n",
       "      <td>59.43</td>\n",
       "      <td>Not Placed</td>\n",
       "      <td>NaN</td>\n",
       "    </tr>\n",
       "    <tr>\n",
       "      <th>4</th>\n",
       "      <td>5</td>\n",
       "      <td>M</td>\n",
       "      <td>85.80</td>\n",
       "      <td>Central</td>\n",
       "      <td>73.60</td>\n",
       "      <td>Central</td>\n",
       "      <td>Commerce</td>\n",
       "      <td>73.30</td>\n",
       "      <td>Comm&amp;Mgmt</td>\n",
       "      <td>No</td>\n",
       "      <td>96.8</td>\n",
       "      <td>Mkt&amp;Fin</td>\n",
       "      <td>55.50</td>\n",
       "      <td>Placed</td>\n",
       "      <td>425000.0</td>\n",
       "    </tr>\n",
       "    <tr>\n",
       "      <th>...</th>\n",
       "      <td>...</td>\n",
       "      <td>...</td>\n",
       "      <td>...</td>\n",
       "      <td>...</td>\n",
       "      <td>...</td>\n",
       "      <td>...</td>\n",
       "      <td>...</td>\n",
       "      <td>...</td>\n",
       "      <td>...</td>\n",
       "      <td>...</td>\n",
       "      <td>...</td>\n",
       "      <td>...</td>\n",
       "      <td>...</td>\n",
       "      <td>...</td>\n",
       "      <td>...</td>\n",
       "    </tr>\n",
       "    <tr>\n",
       "      <th>210</th>\n",
       "      <td>211</td>\n",
       "      <td>M</td>\n",
       "      <td>80.60</td>\n",
       "      <td>Others</td>\n",
       "      <td>82.00</td>\n",
       "      <td>Others</td>\n",
       "      <td>Commerce</td>\n",
       "      <td>77.60</td>\n",
       "      <td>Comm&amp;Mgmt</td>\n",
       "      <td>No</td>\n",
       "      <td>91.0</td>\n",
       "      <td>Mkt&amp;Fin</td>\n",
       "      <td>74.49</td>\n",
       "      <td>Placed</td>\n",
       "      <td>400000.0</td>\n",
       "    </tr>\n",
       "    <tr>\n",
       "      <th>211</th>\n",
       "      <td>212</td>\n",
       "      <td>M</td>\n",
       "      <td>58.00</td>\n",
       "      <td>Others</td>\n",
       "      <td>60.00</td>\n",
       "      <td>Others</td>\n",
       "      <td>Science</td>\n",
       "      <td>72.00</td>\n",
       "      <td>Sci&amp;Tech</td>\n",
       "      <td>No</td>\n",
       "      <td>74.0</td>\n",
       "      <td>Mkt&amp;Fin</td>\n",
       "      <td>53.62</td>\n",
       "      <td>Placed</td>\n",
       "      <td>275000.0</td>\n",
       "    </tr>\n",
       "    <tr>\n",
       "      <th>212</th>\n",
       "      <td>213</td>\n",
       "      <td>M</td>\n",
       "      <td>67.00</td>\n",
       "      <td>Others</td>\n",
       "      <td>67.00</td>\n",
       "      <td>Others</td>\n",
       "      <td>Commerce</td>\n",
       "      <td>73.00</td>\n",
       "      <td>Comm&amp;Mgmt</td>\n",
       "      <td>Yes</td>\n",
       "      <td>59.0</td>\n",
       "      <td>Mkt&amp;Fin</td>\n",
       "      <td>69.72</td>\n",
       "      <td>Placed</td>\n",
       "      <td>295000.0</td>\n",
       "    </tr>\n",
       "    <tr>\n",
       "      <th>213</th>\n",
       "      <td>214</td>\n",
       "      <td>F</td>\n",
       "      <td>74.00</td>\n",
       "      <td>Others</td>\n",
       "      <td>66.00</td>\n",
       "      <td>Others</td>\n",
       "      <td>Commerce</td>\n",
       "      <td>58.00</td>\n",
       "      <td>Comm&amp;Mgmt</td>\n",
       "      <td>No</td>\n",
       "      <td>70.0</td>\n",
       "      <td>Mkt&amp;HR</td>\n",
       "      <td>60.23</td>\n",
       "      <td>Placed</td>\n",
       "      <td>204000.0</td>\n",
       "    </tr>\n",
       "    <tr>\n",
       "      <th>214</th>\n",
       "      <td>215</td>\n",
       "      <td>M</td>\n",
       "      <td>62.00</td>\n",
       "      <td>Central</td>\n",
       "      <td>58.00</td>\n",
       "      <td>Others</td>\n",
       "      <td>Science</td>\n",
       "      <td>53.00</td>\n",
       "      <td>Comm&amp;Mgmt</td>\n",
       "      <td>No</td>\n",
       "      <td>89.0</td>\n",
       "      <td>Mkt&amp;HR</td>\n",
       "      <td>60.22</td>\n",
       "      <td>Not Placed</td>\n",
       "      <td>NaN</td>\n",
       "    </tr>\n",
       "  </tbody>\n",
       "</table>\n",
       "<p>215 rows × 15 columns</p>\n",
       "</div>"
      ],
      "text/plain": [
       "     sl_no gender  ssc_p    ssc_b  hsc_p    hsc_b     hsc_s  degree_p  \\\n",
       "0        1      M  67.00   Others  91.00   Others  Commerce     58.00   \n",
       "1        2      M  79.33  Central  78.33   Others   Science     77.48   \n",
       "2        3      M  65.00  Central  68.00  Central      Arts     64.00   \n",
       "3        4      M  56.00  Central  52.00  Central   Science     52.00   \n",
       "4        5      M  85.80  Central  73.60  Central  Commerce     73.30   \n",
       "..     ...    ...    ...      ...    ...      ...       ...       ...   \n",
       "210    211      M  80.60   Others  82.00   Others  Commerce     77.60   \n",
       "211    212      M  58.00   Others  60.00   Others   Science     72.00   \n",
       "212    213      M  67.00   Others  67.00   Others  Commerce     73.00   \n",
       "213    214      F  74.00   Others  66.00   Others  Commerce     58.00   \n",
       "214    215      M  62.00  Central  58.00   Others   Science     53.00   \n",
       "\n",
       "      degree_t workex  etest_p specialisation  mba_p      status    salary  \n",
       "0     Sci&Tech     No     55.0         Mkt&HR  58.80      Placed  270000.0  \n",
       "1     Sci&Tech    Yes     86.5        Mkt&Fin  66.28      Placed  200000.0  \n",
       "2    Comm&Mgmt     No     75.0        Mkt&Fin  57.80      Placed  250000.0  \n",
       "3     Sci&Tech     No     66.0         Mkt&HR  59.43  Not Placed       NaN  \n",
       "4    Comm&Mgmt     No     96.8        Mkt&Fin  55.50      Placed  425000.0  \n",
       "..         ...    ...      ...            ...    ...         ...       ...  \n",
       "210  Comm&Mgmt     No     91.0        Mkt&Fin  74.49      Placed  400000.0  \n",
       "211   Sci&Tech     No     74.0        Mkt&Fin  53.62      Placed  275000.0  \n",
       "212  Comm&Mgmt    Yes     59.0        Mkt&Fin  69.72      Placed  295000.0  \n",
       "213  Comm&Mgmt     No     70.0         Mkt&HR  60.23      Placed  204000.0  \n",
       "214  Comm&Mgmt     No     89.0         Mkt&HR  60.22  Not Placed       NaN  \n",
       "\n",
       "[215 rows x 15 columns]"
      ]
     },
     "execution_count": 3,
     "metadata": {},
     "output_type": "execute_result"
    }
   ],
   "source": [
    "dataset"
   ]
  },
  {
   "cell_type": "code",
   "execution_count": 4,
   "id": "ff7936c8",
   "metadata": {},
   "outputs": [
    {
     "data": {
      "text/plain": [
       "sl_no              0\n",
       "gender             0\n",
       "ssc_p              0\n",
       "ssc_b              0\n",
       "hsc_p              0\n",
       "hsc_b              0\n",
       "hsc_s              0\n",
       "degree_p           0\n",
       "degree_t           0\n",
       "workex             0\n",
       "etest_p            0\n",
       "specialisation     0\n",
       "mba_p              0\n",
       "status             0\n",
       "salary            67\n",
       "dtype: int64"
      ]
     },
     "execution_count": 4,
     "metadata": {},
     "output_type": "execute_result"
    }
   ],
   "source": [
    "dataset.isnull().sum()"
   ]
  },
  {
   "cell_type": "markdown",
   "id": "2e4c44c5",
   "metadata": {},
   "source": [
    "### 1. Replace the Null values"
   ]
  },
  {
   "cell_type": "code",
   "execution_count": 5,
   "id": "744e3230",
   "metadata": {},
   "outputs": [],
   "source": [
    "# Respective to the problem statement have to replace the missing values (like 0)\n",
    "dataset[\"salary\"].fillna(0,inplace=True)"
   ]
  },
  {
   "cell_type": "code",
   "execution_count": 6,
   "id": "0ebc3da7",
   "metadata": {},
   "outputs": [
    {
     "data": {
      "text/plain": [
       "sl_no             0\n",
       "gender            0\n",
       "ssc_p             0\n",
       "ssc_b             0\n",
       "hsc_p             0\n",
       "hsc_b             0\n",
       "hsc_s             0\n",
       "degree_p          0\n",
       "degree_t          0\n",
       "workex            0\n",
       "etest_p           0\n",
       "specialisation    0\n",
       "mba_p             0\n",
       "status            0\n",
       "salary            0\n",
       "dtype: int64"
      ]
     },
     "execution_count": 6,
     "metadata": {},
     "output_type": "execute_result"
    }
   ],
   "source": [
    "dataset.isna().sum()"
   ]
  },
  {
   "cell_type": "markdown",
   "id": "c183c242",
   "metadata": {},
   "source": [
    "#### Explanation"
   ]
  },
  {
   "cell_type": "markdown",
   "id": "6001c509",
   "metadata": {},
   "source": [
    "#### Replace the slary null values with constant(0), because in this placement dataset miising salary is truely refers to not placed"
   ]
  },
  {
   "cell_type": "markdown",
   "id": "3863d976",
   "metadata": {},
   "source": [
    "### 2. How many of them are not placed?"
   ]
  },
  {
   "cell_type": "code",
   "execution_count": 8,
   "id": "ac648920",
   "metadata": {},
   "outputs": [
    {
     "data": {
      "text/plain": [
       "67"
      ]
     },
     "execution_count": 8,
     "metadata": {},
     "output_type": "execute_result"
    }
   ],
   "source": [
    "#(dataset['status'].str.lower() == 'not placed').sum()\n",
    "df=dataset\n",
    "df[df['status'].str.lower() == 'not placed'].shape[0] #Gets the number of rows in the filtered DataFrame"
   ]
  },
  {
   "cell_type": "markdown",
   "id": "8b3bf1a4",
   "metadata": {},
   "source": [
    "### 3. Find the reason for not placement in the dataset"
   ]
  },
  {
   "cell_type": "code",
   "execution_count": 9,
   "id": "26c09953",
   "metadata": {},
   "outputs": [],
   "source": [
    "def infer_reason(row):\n",
    "    reasons = []\n",
    "    if row['mba_p'] < df['mba_p'].mean():\n",
    "        reasons.append(\"Low MBA Score\")\n",
    "    if row['degree_p'] < df['degree_p'].mean():\n",
    "        reasons.append(\"Low Degree Score\")\n",
    "    if row['etest_p'] < df['etest_p'].mean():\n",
    "        reasons.append(\"Low E-Test Score\")\n",
    "    if row['workex'] == 'No':\n",
    "        reasons.append(\"No Work Experience\")\n",
    "    if not reasons:\n",
    "        reasons.append(\"Unknown\")\n",
    "    return ', '.join(reasons)\n",
    "\n",
    "# Create a new column for inferred reasons\n",
    "#We want to evaluate multiple columns in each row to decide the reason for \"Not Placed\". That means we want to process row by row so we use apply() here\n",
    "df['Notplaced_Reason'] = df.apply(lambda row: infer_reason(row) if row['status'] == 'Not Placed' else '-', axis=1)\n"
   ]
  },
  {
   "cell_type": "code",
   "execution_count": 10,
   "id": "364fbc1f",
   "metadata": {},
   "outputs": [
    {
     "data": {
      "text/html": [
       "<div>\n",
       "<style scoped>\n",
       "    .dataframe tbody tr th:only-of-type {\n",
       "        vertical-align: middle;\n",
       "    }\n",
       "\n",
       "    .dataframe tbody tr th {\n",
       "        vertical-align: top;\n",
       "    }\n",
       "\n",
       "    .dataframe thead th {\n",
       "        text-align: right;\n",
       "    }\n",
       "</style>\n",
       "<table border=\"1\" class=\"dataframe\">\n",
       "  <thead>\n",
       "    <tr style=\"text-align: right;\">\n",
       "      <th></th>\n",
       "      <th>sl_no</th>\n",
       "      <th>gender</th>\n",
       "      <th>ssc_p</th>\n",
       "      <th>ssc_b</th>\n",
       "      <th>hsc_p</th>\n",
       "      <th>hsc_b</th>\n",
       "      <th>hsc_s</th>\n",
       "      <th>degree_p</th>\n",
       "      <th>degree_t</th>\n",
       "      <th>workex</th>\n",
       "      <th>etest_p</th>\n",
       "      <th>specialisation</th>\n",
       "      <th>mba_p</th>\n",
       "      <th>status</th>\n",
       "      <th>salary</th>\n",
       "      <th>Notplaced_Reason</th>\n",
       "    </tr>\n",
       "  </thead>\n",
       "  <tbody>\n",
       "    <tr>\n",
       "      <th>0</th>\n",
       "      <td>1</td>\n",
       "      <td>M</td>\n",
       "      <td>67.00</td>\n",
       "      <td>Others</td>\n",
       "      <td>91.00</td>\n",
       "      <td>Others</td>\n",
       "      <td>Commerce</td>\n",
       "      <td>58.00</td>\n",
       "      <td>Sci&amp;Tech</td>\n",
       "      <td>No</td>\n",
       "      <td>55.0</td>\n",
       "      <td>Mkt&amp;HR</td>\n",
       "      <td>58.80</td>\n",
       "      <td>Placed</td>\n",
       "      <td>270000.0</td>\n",
       "      <td>-</td>\n",
       "    </tr>\n",
       "    <tr>\n",
       "      <th>1</th>\n",
       "      <td>2</td>\n",
       "      <td>M</td>\n",
       "      <td>79.33</td>\n",
       "      <td>Central</td>\n",
       "      <td>78.33</td>\n",
       "      <td>Others</td>\n",
       "      <td>Science</td>\n",
       "      <td>77.48</td>\n",
       "      <td>Sci&amp;Tech</td>\n",
       "      <td>Yes</td>\n",
       "      <td>86.5</td>\n",
       "      <td>Mkt&amp;Fin</td>\n",
       "      <td>66.28</td>\n",
       "      <td>Placed</td>\n",
       "      <td>200000.0</td>\n",
       "      <td>-</td>\n",
       "    </tr>\n",
       "    <tr>\n",
       "      <th>2</th>\n",
       "      <td>3</td>\n",
       "      <td>M</td>\n",
       "      <td>65.00</td>\n",
       "      <td>Central</td>\n",
       "      <td>68.00</td>\n",
       "      <td>Central</td>\n",
       "      <td>Arts</td>\n",
       "      <td>64.00</td>\n",
       "      <td>Comm&amp;Mgmt</td>\n",
       "      <td>No</td>\n",
       "      <td>75.0</td>\n",
       "      <td>Mkt&amp;Fin</td>\n",
       "      <td>57.80</td>\n",
       "      <td>Placed</td>\n",
       "      <td>250000.0</td>\n",
       "      <td>-</td>\n",
       "    </tr>\n",
       "    <tr>\n",
       "      <th>3</th>\n",
       "      <td>4</td>\n",
       "      <td>M</td>\n",
       "      <td>56.00</td>\n",
       "      <td>Central</td>\n",
       "      <td>52.00</td>\n",
       "      <td>Central</td>\n",
       "      <td>Science</td>\n",
       "      <td>52.00</td>\n",
       "      <td>Sci&amp;Tech</td>\n",
       "      <td>No</td>\n",
       "      <td>66.0</td>\n",
       "      <td>Mkt&amp;HR</td>\n",
       "      <td>59.43</td>\n",
       "      <td>Not Placed</td>\n",
       "      <td>0.0</td>\n",
       "      <td>Low MBA Score, Low Degree Score, Low E-Test Sc...</td>\n",
       "    </tr>\n",
       "    <tr>\n",
       "      <th>4</th>\n",
       "      <td>5</td>\n",
       "      <td>M</td>\n",
       "      <td>85.80</td>\n",
       "      <td>Central</td>\n",
       "      <td>73.60</td>\n",
       "      <td>Central</td>\n",
       "      <td>Commerce</td>\n",
       "      <td>73.30</td>\n",
       "      <td>Comm&amp;Mgmt</td>\n",
       "      <td>No</td>\n",
       "      <td>96.8</td>\n",
       "      <td>Mkt&amp;Fin</td>\n",
       "      <td>55.50</td>\n",
       "      <td>Placed</td>\n",
       "      <td>425000.0</td>\n",
       "      <td>-</td>\n",
       "    </tr>\n",
       "    <tr>\n",
       "      <th>...</th>\n",
       "      <td>...</td>\n",
       "      <td>...</td>\n",
       "      <td>...</td>\n",
       "      <td>...</td>\n",
       "      <td>...</td>\n",
       "      <td>...</td>\n",
       "      <td>...</td>\n",
       "      <td>...</td>\n",
       "      <td>...</td>\n",
       "      <td>...</td>\n",
       "      <td>...</td>\n",
       "      <td>...</td>\n",
       "      <td>...</td>\n",
       "      <td>...</td>\n",
       "      <td>...</td>\n",
       "      <td>...</td>\n",
       "    </tr>\n",
       "    <tr>\n",
       "      <th>210</th>\n",
       "      <td>211</td>\n",
       "      <td>M</td>\n",
       "      <td>80.60</td>\n",
       "      <td>Others</td>\n",
       "      <td>82.00</td>\n",
       "      <td>Others</td>\n",
       "      <td>Commerce</td>\n",
       "      <td>77.60</td>\n",
       "      <td>Comm&amp;Mgmt</td>\n",
       "      <td>No</td>\n",
       "      <td>91.0</td>\n",
       "      <td>Mkt&amp;Fin</td>\n",
       "      <td>74.49</td>\n",
       "      <td>Placed</td>\n",
       "      <td>400000.0</td>\n",
       "      <td>-</td>\n",
       "    </tr>\n",
       "    <tr>\n",
       "      <th>211</th>\n",
       "      <td>212</td>\n",
       "      <td>M</td>\n",
       "      <td>58.00</td>\n",
       "      <td>Others</td>\n",
       "      <td>60.00</td>\n",
       "      <td>Others</td>\n",
       "      <td>Science</td>\n",
       "      <td>72.00</td>\n",
       "      <td>Sci&amp;Tech</td>\n",
       "      <td>No</td>\n",
       "      <td>74.0</td>\n",
       "      <td>Mkt&amp;Fin</td>\n",
       "      <td>53.62</td>\n",
       "      <td>Placed</td>\n",
       "      <td>275000.0</td>\n",
       "      <td>-</td>\n",
       "    </tr>\n",
       "    <tr>\n",
       "      <th>212</th>\n",
       "      <td>213</td>\n",
       "      <td>M</td>\n",
       "      <td>67.00</td>\n",
       "      <td>Others</td>\n",
       "      <td>67.00</td>\n",
       "      <td>Others</td>\n",
       "      <td>Commerce</td>\n",
       "      <td>73.00</td>\n",
       "      <td>Comm&amp;Mgmt</td>\n",
       "      <td>Yes</td>\n",
       "      <td>59.0</td>\n",
       "      <td>Mkt&amp;Fin</td>\n",
       "      <td>69.72</td>\n",
       "      <td>Placed</td>\n",
       "      <td>295000.0</td>\n",
       "      <td>-</td>\n",
       "    </tr>\n",
       "    <tr>\n",
       "      <th>213</th>\n",
       "      <td>214</td>\n",
       "      <td>F</td>\n",
       "      <td>74.00</td>\n",
       "      <td>Others</td>\n",
       "      <td>66.00</td>\n",
       "      <td>Others</td>\n",
       "      <td>Commerce</td>\n",
       "      <td>58.00</td>\n",
       "      <td>Comm&amp;Mgmt</td>\n",
       "      <td>No</td>\n",
       "      <td>70.0</td>\n",
       "      <td>Mkt&amp;HR</td>\n",
       "      <td>60.23</td>\n",
       "      <td>Placed</td>\n",
       "      <td>204000.0</td>\n",
       "      <td>-</td>\n",
       "    </tr>\n",
       "    <tr>\n",
       "      <th>214</th>\n",
       "      <td>215</td>\n",
       "      <td>M</td>\n",
       "      <td>62.00</td>\n",
       "      <td>Central</td>\n",
       "      <td>58.00</td>\n",
       "      <td>Others</td>\n",
       "      <td>Science</td>\n",
       "      <td>53.00</td>\n",
       "      <td>Comm&amp;Mgmt</td>\n",
       "      <td>No</td>\n",
       "      <td>89.0</td>\n",
       "      <td>Mkt&amp;HR</td>\n",
       "      <td>60.22</td>\n",
       "      <td>Not Placed</td>\n",
       "      <td>0.0</td>\n",
       "      <td>Low MBA Score, Low Degree Score, No Work Exper...</td>\n",
       "    </tr>\n",
       "  </tbody>\n",
       "</table>\n",
       "<p>215 rows × 16 columns</p>\n",
       "</div>"
      ],
      "text/plain": [
       "     sl_no gender  ssc_p    ssc_b  hsc_p    hsc_b     hsc_s  degree_p  \\\n",
       "0        1      M  67.00   Others  91.00   Others  Commerce     58.00   \n",
       "1        2      M  79.33  Central  78.33   Others   Science     77.48   \n",
       "2        3      M  65.00  Central  68.00  Central      Arts     64.00   \n",
       "3        4      M  56.00  Central  52.00  Central   Science     52.00   \n",
       "4        5      M  85.80  Central  73.60  Central  Commerce     73.30   \n",
       "..     ...    ...    ...      ...    ...      ...       ...       ...   \n",
       "210    211      M  80.60   Others  82.00   Others  Commerce     77.60   \n",
       "211    212      M  58.00   Others  60.00   Others   Science     72.00   \n",
       "212    213      M  67.00   Others  67.00   Others  Commerce     73.00   \n",
       "213    214      F  74.00   Others  66.00   Others  Commerce     58.00   \n",
       "214    215      M  62.00  Central  58.00   Others   Science     53.00   \n",
       "\n",
       "      degree_t workex  etest_p specialisation  mba_p      status    salary  \\\n",
       "0     Sci&Tech     No     55.0         Mkt&HR  58.80      Placed  270000.0   \n",
       "1     Sci&Tech    Yes     86.5        Mkt&Fin  66.28      Placed  200000.0   \n",
       "2    Comm&Mgmt     No     75.0        Mkt&Fin  57.80      Placed  250000.0   \n",
       "3     Sci&Tech     No     66.0         Mkt&HR  59.43  Not Placed       0.0   \n",
       "4    Comm&Mgmt     No     96.8        Mkt&Fin  55.50      Placed  425000.0   \n",
       "..         ...    ...      ...            ...    ...         ...       ...   \n",
       "210  Comm&Mgmt     No     91.0        Mkt&Fin  74.49      Placed  400000.0   \n",
       "211   Sci&Tech     No     74.0        Mkt&Fin  53.62      Placed  275000.0   \n",
       "212  Comm&Mgmt    Yes     59.0        Mkt&Fin  69.72      Placed  295000.0   \n",
       "213  Comm&Mgmt     No     70.0         Mkt&HR  60.23      Placed  204000.0   \n",
       "214  Comm&Mgmt     No     89.0         Mkt&HR  60.22  Not Placed       0.0   \n",
       "\n",
       "                                      Notplaced_Reason  \n",
       "0                                                    -  \n",
       "1                                                    -  \n",
       "2                                                    -  \n",
       "3    Low MBA Score, Low Degree Score, Low E-Test Sc...  \n",
       "4                                                    -  \n",
       "..                                                 ...  \n",
       "210                                                  -  \n",
       "211                                                  -  \n",
       "212                                                  -  \n",
       "213                                                  -  \n",
       "214  Low MBA Score, Low Degree Score, No Work Exper...  \n",
       "\n",
       "[215 rows x 16 columns]"
      ]
     },
     "execution_count": 10,
     "metadata": {},
     "output_type": "execute_result"
    }
   ],
   "source": [
    "df"
   ]
  },
  {
   "cell_type": "markdown",
   "id": "c0bb0477",
   "metadata": {},
   "source": [
    "### 4. What kind of relation between salary and mba_p"
   ]
  },
  {
   "cell_type": "code",
   "execution_count": 11,
   "id": "fbe9e198",
   "metadata": {},
   "outputs": [
    {
     "name": "stdout",
     "output_type": "stream",
     "text": [
      "           mba_p    salary\n",
      "mba_p   1.000000  0.139823\n",
      "salary  0.139823  1.000000\n"
     ]
    }
   ],
   "source": [
    "correlation = df[['mba_p', 'salary']].corr()\n",
    "print(correlation)"
   ]
  },
  {
   "cell_type": "markdown",
   "id": "5e9f110c",
   "metadata": {},
   "source": [
    "#### Correlation between Mba_p and Salary is 0.1398. Hence, it is a low degree of positive correlation (Directly propotional but 0nly 13%)"
   ]
  },
  {
   "cell_type": "markdown",
   "id": "7099a50a",
   "metadata": {},
   "source": [
    "### 5. Which specialization is getting the minimum salary?"
   ]
  },
  {
   "cell_type": "code",
   "execution_count": 12,
   "id": "37f59af3",
   "metadata": {},
   "outputs": [
    {
     "name": "stdout",
     "output_type": "stream",
     "text": [
      "Minimum salary is: 200000.0\n",
      "Specialization(s) receiving Minimum salary:\n",
      "- Mkt&Fin\n",
      "- Mkt&HR\n"
     ]
    }
   ],
   "source": [
    "placed = df[(df['status'] == 'Placed') & (df['salary'].notnull())]\n",
    "\n",
    "# Find the minimum salary value\n",
    "min_salary = placed['salary'].min()\n",
    "\n",
    "# Find all rows with that minimum salary\n",
    "min_salary_rows = placed[placed['salary'] == min_salary]\n",
    "\n",
    "# Get unique specializations from those rows\n",
    "specializations = min_salary_rows['specialisation'].unique()\n",
    "\n",
    "print(f\"Minimum salary is: {min_salary}\")\n",
    "#print(\"Minimum salary is:\", min_salary)\n",
    "#print(\"Minimum salary is: \" + str(min_salary)) \n",
    "\n",
    "print(\"Specialization(s) receiving Minimum salary:\")\n",
    "\n",
    "for spec in specializations:\n",
    "    print(f\"- {spec}\")"
   ]
  },
  {
   "cell_type": "code",
   "execution_count": 13,
   "id": "64fbe342",
   "metadata": {},
   "outputs": [
    {
     "data": {
      "text/plain": [
       "200000.0"
      ]
     },
     "execution_count": 13,
     "metadata": {},
     "output_type": "execute_result"
    }
   ],
   "source": [
    "min_salary"
   ]
  },
  {
   "cell_type": "code",
   "execution_count": 14,
   "id": "a7e664ca",
   "metadata": {},
   "outputs": [
    {
     "data": {
      "text/html": [
       "<div>\n",
       "<style scoped>\n",
       "    .dataframe tbody tr th:only-of-type {\n",
       "        vertical-align: middle;\n",
       "    }\n",
       "\n",
       "    .dataframe tbody tr th {\n",
       "        vertical-align: top;\n",
       "    }\n",
       "\n",
       "    .dataframe thead th {\n",
       "        text-align: right;\n",
       "    }\n",
       "</style>\n",
       "<table border=\"1\" class=\"dataframe\">\n",
       "  <thead>\n",
       "    <tr style=\"text-align: right;\">\n",
       "      <th></th>\n",
       "      <th>sl_no</th>\n",
       "      <th>gender</th>\n",
       "      <th>ssc_p</th>\n",
       "      <th>ssc_b</th>\n",
       "      <th>hsc_p</th>\n",
       "      <th>hsc_b</th>\n",
       "      <th>hsc_s</th>\n",
       "      <th>degree_p</th>\n",
       "      <th>degree_t</th>\n",
       "      <th>workex</th>\n",
       "      <th>etest_p</th>\n",
       "      <th>specialisation</th>\n",
       "      <th>mba_p</th>\n",
       "      <th>status</th>\n",
       "      <th>salary</th>\n",
       "      <th>Notplaced_Reason</th>\n",
       "    </tr>\n",
       "  </thead>\n",
       "  <tbody>\n",
       "    <tr>\n",
       "      <th>1</th>\n",
       "      <td>2</td>\n",
       "      <td>M</td>\n",
       "      <td>79.33</td>\n",
       "      <td>Central</td>\n",
       "      <td>78.33</td>\n",
       "      <td>Others</td>\n",
       "      <td>Science</td>\n",
       "      <td>77.48</td>\n",
       "      <td>Sci&amp;Tech</td>\n",
       "      <td>Yes</td>\n",
       "      <td>86.5</td>\n",
       "      <td>Mkt&amp;Fin</td>\n",
       "      <td>66.28</td>\n",
       "      <td>Placed</td>\n",
       "      <td>200000.0</td>\n",
       "      <td>-</td>\n",
       "    </tr>\n",
       "    <tr>\n",
       "      <th>15</th>\n",
       "      <td>16</td>\n",
       "      <td>F</td>\n",
       "      <td>65.00</td>\n",
       "      <td>Central</td>\n",
       "      <td>75.00</td>\n",
       "      <td>Central</td>\n",
       "      <td>Commerce</td>\n",
       "      <td>69.00</td>\n",
       "      <td>Comm&amp;Mgmt</td>\n",
       "      <td>Yes</td>\n",
       "      <td>72.0</td>\n",
       "      <td>Mkt&amp;Fin</td>\n",
       "      <td>64.66</td>\n",
       "      <td>Placed</td>\n",
       "      <td>200000.0</td>\n",
       "      <td>-</td>\n",
       "    </tr>\n",
       "    <tr>\n",
       "      <th>44</th>\n",
       "      <td>45</td>\n",
       "      <td>F</td>\n",
       "      <td>77.00</td>\n",
       "      <td>Others</td>\n",
       "      <td>73.00</td>\n",
       "      <td>Others</td>\n",
       "      <td>Commerce</td>\n",
       "      <td>81.00</td>\n",
       "      <td>Comm&amp;Mgmt</td>\n",
       "      <td>Yes</td>\n",
       "      <td>89.0</td>\n",
       "      <td>Mkt&amp;Fin</td>\n",
       "      <td>69.70</td>\n",
       "      <td>Placed</td>\n",
       "      <td>200000.0</td>\n",
       "      <td>-</td>\n",
       "    </tr>\n",
       "    <tr>\n",
       "      <th>50</th>\n",
       "      <td>51</td>\n",
       "      <td>F</td>\n",
       "      <td>75.20</td>\n",
       "      <td>Central</td>\n",
       "      <td>73.20</td>\n",
       "      <td>Central</td>\n",
       "      <td>Science</td>\n",
       "      <td>68.40</td>\n",
       "      <td>Comm&amp;Mgmt</td>\n",
       "      <td>No</td>\n",
       "      <td>65.0</td>\n",
       "      <td>Mkt&amp;HR</td>\n",
       "      <td>62.98</td>\n",
       "      <td>Placed</td>\n",
       "      <td>200000.0</td>\n",
       "      <td>-</td>\n",
       "    </tr>\n",
       "    <tr>\n",
       "      <th>107</th>\n",
       "      <td>108</td>\n",
       "      <td>M</td>\n",
       "      <td>82.00</td>\n",
       "      <td>Others</td>\n",
       "      <td>90.00</td>\n",
       "      <td>Others</td>\n",
       "      <td>Commerce</td>\n",
       "      <td>83.00</td>\n",
       "      <td>Comm&amp;Mgmt</td>\n",
       "      <td>No</td>\n",
       "      <td>80.0</td>\n",
       "      <td>Mkt&amp;HR</td>\n",
       "      <td>73.52</td>\n",
       "      <td>Placed</td>\n",
       "      <td>200000.0</td>\n",
       "      <td>-</td>\n",
       "    </tr>\n",
       "    <tr>\n",
       "      <th>135</th>\n",
       "      <td>136</td>\n",
       "      <td>F</td>\n",
       "      <td>72.00</td>\n",
       "      <td>Central</td>\n",
       "      <td>56.00</td>\n",
       "      <td>Others</td>\n",
       "      <td>Science</td>\n",
       "      <td>69.00</td>\n",
       "      <td>Comm&amp;Mgmt</td>\n",
       "      <td>No</td>\n",
       "      <td>55.6</td>\n",
       "      <td>Mkt&amp;HR</td>\n",
       "      <td>65.63</td>\n",
       "      <td>Placed</td>\n",
       "      <td>200000.0</td>\n",
       "      <td>-</td>\n",
       "    </tr>\n",
       "  </tbody>\n",
       "</table>\n",
       "</div>"
      ],
      "text/plain": [
       "     sl_no gender  ssc_p    ssc_b  hsc_p    hsc_b     hsc_s  degree_p  \\\n",
       "1        2      M  79.33  Central  78.33   Others   Science     77.48   \n",
       "15      16      F  65.00  Central  75.00  Central  Commerce     69.00   \n",
       "44      45      F  77.00   Others  73.00   Others  Commerce     81.00   \n",
       "50      51      F  75.20  Central  73.20  Central   Science     68.40   \n",
       "107    108      M  82.00   Others  90.00   Others  Commerce     83.00   \n",
       "135    136      F  72.00  Central  56.00   Others   Science     69.00   \n",
       "\n",
       "      degree_t workex  etest_p specialisation  mba_p  status    salary  \\\n",
       "1     Sci&Tech    Yes     86.5        Mkt&Fin  66.28  Placed  200000.0   \n",
       "15   Comm&Mgmt    Yes     72.0        Mkt&Fin  64.66  Placed  200000.0   \n",
       "44   Comm&Mgmt    Yes     89.0        Mkt&Fin  69.70  Placed  200000.0   \n",
       "50   Comm&Mgmt     No     65.0         Mkt&HR  62.98  Placed  200000.0   \n",
       "107  Comm&Mgmt     No     80.0         Mkt&HR  73.52  Placed  200000.0   \n",
       "135  Comm&Mgmt     No     55.6         Mkt&HR  65.63  Placed  200000.0   \n",
       "\n",
       "    Notplaced_Reason  \n",
       "1                  -  \n",
       "15                 -  \n",
       "44                 -  \n",
       "50                 -  \n",
       "107                -  \n",
       "135                -  "
      ]
     },
     "execution_count": 14,
     "metadata": {},
     "output_type": "execute_result"
    }
   ],
   "source": [
    "min_salary_rows"
   ]
  },
  {
   "cell_type": "code",
   "execution_count": 15,
   "id": "69028be5",
   "metadata": {},
   "outputs": [
    {
     "data": {
      "text/plain": [
       "array(['Mkt&Fin', 'Mkt&HR'], dtype=object)"
      ]
     },
     "execution_count": 15,
     "metadata": {},
     "output_type": "execute_result"
    }
   ],
   "source": [
    "specializations"
   ]
  },
  {
   "cell_type": "markdown",
   "id": "f5737bd2",
   "metadata": {},
   "source": [
    "### 6. How many of them getting above 500000 salary?"
   ]
  },
  {
   "cell_type": "code",
   "execution_count": 16,
   "id": "a67a4ec1",
   "metadata": {},
   "outputs": [
    {
     "name": "stdout",
     "output_type": "stream",
     "text": [
      "In the placement dataset 3 of them were getting salary above 500000\n"
     ]
    }
   ],
   "source": [
    "max_salary = df[df['salary'] > 500000]\n",
    "print(\"In the placement dataset\",len(max_salary) , \"of them were getting salary above 500000\")"
   ]
  },
  {
   "cell_type": "code",
   "execution_count": 17,
   "id": "00323c2c",
   "metadata": {},
   "outputs": [
    {
     "data": {
      "text/html": [
       "<div>\n",
       "<style scoped>\n",
       "    .dataframe tbody tr th:only-of-type {\n",
       "        vertical-align: middle;\n",
       "    }\n",
       "\n",
       "    .dataframe tbody tr th {\n",
       "        vertical-align: top;\n",
       "    }\n",
       "\n",
       "    .dataframe thead th {\n",
       "        text-align: right;\n",
       "    }\n",
       "</style>\n",
       "<table border=\"1\" class=\"dataframe\">\n",
       "  <thead>\n",
       "    <tr style=\"text-align: right;\">\n",
       "      <th></th>\n",
       "      <th>sl_no</th>\n",
       "      <th>gender</th>\n",
       "      <th>ssc_p</th>\n",
       "      <th>ssc_b</th>\n",
       "      <th>hsc_p</th>\n",
       "      <th>hsc_b</th>\n",
       "      <th>hsc_s</th>\n",
       "      <th>degree_p</th>\n",
       "      <th>degree_t</th>\n",
       "      <th>workex</th>\n",
       "      <th>etest_p</th>\n",
       "      <th>specialisation</th>\n",
       "      <th>mba_p</th>\n",
       "      <th>status</th>\n",
       "      <th>salary</th>\n",
       "      <th>Notplaced_Reason</th>\n",
       "    </tr>\n",
       "  </thead>\n",
       "  <tbody>\n",
       "    <tr>\n",
       "      <th>119</th>\n",
       "      <td>120</td>\n",
       "      <td>M</td>\n",
       "      <td>60.8</td>\n",
       "      <td>Central</td>\n",
       "      <td>68.40</td>\n",
       "      <td>Central</td>\n",
       "      <td>Commerce</td>\n",
       "      <td>64.6</td>\n",
       "      <td>Comm&amp;Mgmt</td>\n",
       "      <td>Yes</td>\n",
       "      <td>82.66</td>\n",
       "      <td>Mkt&amp;Fin</td>\n",
       "      <td>64.34</td>\n",
       "      <td>Placed</td>\n",
       "      <td>940000.0</td>\n",
       "      <td>-</td>\n",
       "    </tr>\n",
       "    <tr>\n",
       "      <th>150</th>\n",
       "      <td>151</td>\n",
       "      <td>M</td>\n",
       "      <td>71.0</td>\n",
       "      <td>Central</td>\n",
       "      <td>58.66</td>\n",
       "      <td>Central</td>\n",
       "      <td>Science</td>\n",
       "      <td>58.0</td>\n",
       "      <td>Sci&amp;Tech</td>\n",
       "      <td>Yes</td>\n",
       "      <td>56.00</td>\n",
       "      <td>Mkt&amp;Fin</td>\n",
       "      <td>61.30</td>\n",
       "      <td>Placed</td>\n",
       "      <td>690000.0</td>\n",
       "      <td>-</td>\n",
       "    </tr>\n",
       "    <tr>\n",
       "      <th>177</th>\n",
       "      <td>178</td>\n",
       "      <td>F</td>\n",
       "      <td>73.0</td>\n",
       "      <td>Central</td>\n",
       "      <td>97.00</td>\n",
       "      <td>Others</td>\n",
       "      <td>Commerce</td>\n",
       "      <td>79.0</td>\n",
       "      <td>Comm&amp;Mgmt</td>\n",
       "      <td>Yes</td>\n",
       "      <td>89.00</td>\n",
       "      <td>Mkt&amp;Fin</td>\n",
       "      <td>70.81</td>\n",
       "      <td>Placed</td>\n",
       "      <td>650000.0</td>\n",
       "      <td>-</td>\n",
       "    </tr>\n",
       "  </tbody>\n",
       "</table>\n",
       "</div>"
      ],
      "text/plain": [
       "     sl_no gender  ssc_p    ssc_b  hsc_p    hsc_b     hsc_s  degree_p  \\\n",
       "119    120      M   60.8  Central  68.40  Central  Commerce      64.6   \n",
       "150    151      M   71.0  Central  58.66  Central   Science      58.0   \n",
       "177    178      F   73.0  Central  97.00   Others  Commerce      79.0   \n",
       "\n",
       "      degree_t workex  etest_p specialisation  mba_p  status    salary  \\\n",
       "119  Comm&Mgmt    Yes    82.66        Mkt&Fin  64.34  Placed  940000.0   \n",
       "150   Sci&Tech    Yes    56.00        Mkt&Fin  61.30  Placed  690000.0   \n",
       "177  Comm&Mgmt    Yes    89.00        Mkt&Fin  70.81  Placed  650000.0   \n",
       "\n",
       "    Notplaced_Reason  \n",
       "119                -  \n",
       "150                -  \n",
       "177                -  "
      ]
     },
     "execution_count": 17,
     "metadata": {},
     "output_type": "execute_result"
    }
   ],
   "source": [
    "max_salary"
   ]
  },
  {
   "cell_type": "markdown",
   "id": "f9023111",
   "metadata": {},
   "source": [
    "### 7. Test the Analysis of Variance between etest_p and mba_p at signifance level 5%.(Make decision using Hypothesis Testing)"
   ]
  },
  {
   "cell_type": "markdown",
   "id": "c69839df",
   "metadata": {},
   "source": [
    "#### Statement: Is there any difference between etest_p and mba_p marks"
   ]
  },
  {
   "cell_type": "markdown",
   "id": "5b37d9f6",
   "metadata": {},
   "source": [
    "#### Solution:"
   ]
  },
  {
   "cell_type": "markdown",
   "id": "e594af22",
   "metadata": {},
   "source": [
    "#### H0 - There is no significant difference between marks\n",
    "#### H1 - There is a significant difference between marks"
   ]
  },
  {
   "cell_type": "code",
   "execution_count": 18,
   "id": "135d8e56",
   "metadata": {},
   "outputs": [
    {
     "name": "stdout",
     "output_type": "stream",
     "text": [
      "T-statistic: 98.64487057324706\n",
      "P-value: 4.672547689133573e-21\n"
     ]
    }
   ],
   "source": [
    "from scipy.stats import f_oneway\n",
    "\n",
    "t_stat, p_value = f_oneway(dataset['etest_p'], dataset['mba_p'])\n",
    "\n",
    "print(\"T-statistic:\", t_stat)\n",
    "print(\"P-value:\", p_value)\n"
   ]
  },
  {
   "cell_type": "code",
   "execution_count": 19,
   "id": "fec9eb81",
   "metadata": {},
   "outputs": [
    {
     "data": {
      "text/plain": [
       "4.672547689133573e-21"
      ]
     },
     "execution_count": 19,
     "metadata": {},
     "output_type": "execute_result"
    }
   ],
   "source": [
    "p_value"
   ]
  },
  {
   "cell_type": "markdown",
   "id": "45578870",
   "metadata": {},
   "source": [
    "#### conclusion\n",
    "\n",
    "#### p-value=4.67<0.05, codition false so we Accept Null hypothesis. There is no significant difference between the means of etest_p and mba_p at the 5% significance level."
   ]
  },
  {
   "cell_type": "markdown",
   "id": "7f0504bd",
   "metadata": {},
   "source": [
    "### 8. Test the similarity between the degree_t(Sci&Tech) and specialisation(Mkt&HR) with respect to salary at significance level of 5%.(Make decision using Hypothesis Testing)"
   ]
  },
  {
   "cell_type": "markdown",
   "id": "d9dfdcaf",
   "metadata": {},
   "source": [
    "#### Statement: Is there any similarity between degree_t (sci& Tech) and specialisation (mkt&HR) with respect to salary"
   ]
  },
  {
   "cell_type": "markdown",
   "id": "65c0d6cb",
   "metadata": {},
   "source": [
    "#### solution"
   ]
  },
  {
   "cell_type": "markdown",
   "id": "2b97824c",
   "metadata": {},
   "source": [
    "#### H0 - There is no similarity between degree_t(Sci&Tech) and specialisation(Mkt&HR)\n",
    "#### H1 - There is a similarity  between degree_t(Sci&Tech) and specialisation(Mkt&HR)"
   ]
  },
  {
   "cell_type": "code",
   "execution_count": 20,
   "id": "7e90cff1",
   "metadata": {},
   "outputs": [
    {
     "name": "stdout",
     "output_type": "stream",
     "text": [
      "T-statistic: 2.692041243555374\n",
      "P-value: 0.007897969943471179\n",
      "Result: Reject the null hypothesis. There is a similarity between degree_t(Sci&Tech) and specialisation(Mkt&HR)\n"
     ]
    }
   ],
   "source": [
    "from scipy.stats import ttest_ind\n",
    "\n",
    "sci_tech_salary =df[(df['degree_t'] == 'Sci&Tech') & df['salary'].notna()]['salary']\n",
    "mkt_hr_salary = df[(df['specialisation'] == 'Mkt&HR') & df['salary'].notna()]['salary']\n",
    "\n",
    "# Perform Welch's t-test (assumes unequal variances)\n",
    "t_stat, p_value = ttest_ind(sci_tech_salary, mkt_hr_salary)\n",
    "\n",
    "print(\"T-statistic:\", t_stat)\n",
    "print(\"P-value:\", p_value)\n",
    "\n",
    "# Hypothesis testing decision\n",
    "if p_value < 0.05:\n",
    "    print(\"Result: Reject the null hypothesis. There is a similarity between degree_t(Sci&Tech) and specialisation(Mkt&HR)\")\n",
    "else:\n",
    "    print(\"Result: Fail to reject the null hypothesis. No similarity between degree_t(Sci&Tech) and specialisation(Mkt&HR)\")\n"
   ]
  },
  {
   "cell_type": "markdown",
   "id": "ac5dbba8",
   "metadata": {},
   "source": [
    "#### conclusion"
   ]
  },
  {
   "cell_type": "markdown",
   "id": "8fbd32ef",
   "metadata": {},
   "source": [
    "#### Reject Null hypothesis. There is a similarity between degree_t(Sci&Tech) and specialisation(Mkt&HR)"
   ]
  },
  {
   "cell_type": "markdown",
   "id": "0c396ff7",
   "metadata": {},
   "source": [
    "### 9. Convert the normal distribution to standard normal distribution for salary column"
   ]
  },
  {
   "cell_type": "code",
   "execution_count": 21,
   "id": "381d45c7",
   "metadata": {},
   "outputs": [
    {
     "name": "stderr",
     "output_type": "stream",
     "text": [
      "C:\\Anaconda\\envs\\aiml\\lib\\site-packages\\ipykernel_launcher.py:2: UserWarning: \n",
      "\n",
      "`distplot` is a deprecated function and will be removed in seaborn v0.14.0.\n",
      "\n",
      "Please adapt your code to use either `displot` (a figure-level function with\n",
      "similar flexibility) or `histplot` (an axes-level function for histograms).\n",
      "\n",
      "For a guide to updating your code to use the new functions, please see\n",
      "https://gist.github.com/mwaskom/de44147ed2974457ad6372750bbe5751\n",
      "\n",
      "  \n"
     ]
    },
    {
     "data": {
      "text/plain": [
       "<matplotlib.axes._subplots.AxesSubplot at 0x28e69a7a9e8>"
      ]
     },
     "execution_count": 21,
     "metadata": {},
     "output_type": "execute_result"
    },
    {
     "data": {
      "image/png": "[encoded data removed]",
      "text/plain": [
       "<Figure size 640x480 with 1 Axes>"
      ]
     },
     "metadata": {},
     "output_type": "display_data"
    }
   ],
   "source": [
    "import seaborn as sns\n",
    "sns.distplot(dataset[\"salary\"])"
   ]
  },
  {
   "cell_type": "markdown",
   "id": "6e601e64",
   "metadata": {},
   "source": [
    "#### Standard Normal Distribution"
   ]
  },
  {
   "cell_type": "code",
   "execution_count": 22,
   "id": "39347b59",
   "metadata": {},
   "outputs": [],
   "source": [
    "def stdNBgraph(dataset):\n",
    "    # Coverted to standard Normal Distribution\n",
    "    import seaborn as sns\n",
    "    mean=dataset.mean()\n",
    "    std=dataset.std()\n",
    "\n",
    "    values=[i for i in dataset]\n",
    "    z_score=[((j-mean)/std) for j in values]\n",
    "    sns.distplot(z_score,kde=True)"
   ]
  },
  {
   "cell_type": "code",
   "execution_count": 23,
   "id": "dcd6e950",
   "metadata": {},
   "outputs": [
    {
     "name": "stderr",
     "output_type": "stream",
     "text": [
      "C:\\Anaconda\\envs\\aiml\\lib\\site-packages\\ipykernel_launcher.py:9: UserWarning: \n",
      "\n",
      "`distplot` is a deprecated function and will be removed in seaborn v0.14.0.\n",
      "\n",
      "Please adapt your code to use either `displot` (a figure-level function with\n",
      "similar flexibility) or `histplot` (an axes-level function for histograms).\n",
      "\n",
      "For a guide to updating your code to use the new functions, please see\n",
      "https://gist.github.com/mwaskom/de44147ed2974457ad6372750bbe5751\n",
      "\n",
      "  if __name__ == \"__main__\":\n"
     ]
    },
    {
     "data": {
      "image/png": "[encoded data removed]",
      "text/plain": [
       "<Figure size 640x480 with 1 Axes>"
      ]
     },
     "metadata": {},
     "output_type": "display_data"
    }
   ],
   "source": [
    "stdNBgraph(dataset[\"salary\"])"
   ]
  },
  {
   "cell_type": "markdown",
   "id": "b9b89cef",
   "metadata": {},
   "source": [
    "### 10. What is the probability Density Function of the salary range from 700000 to 900000?"
   ]
  },
  {
   "cell_type": "code",
   "execution_count": 24,
   "id": "fc116d87",
   "metadata": {},
   "outputs": [],
   "source": [
    "def get_pdf_probability(dataset,startrange,endrange):\n",
    "    from matplotlib import pyplot\n",
    "    from scipy.stats import norm\n",
    "    import seaborn as sns\n",
    "    ax = sns.distplot(dataset,kde=True,kde_kws={'color':'blue'},color='Green')\n",
    "    pyplot.axvline(startrange,color='Red')\n",
    "    pyplot.axvline(endrange,color='Red')\n",
    "    # generate a sample\n",
    "    sample = dataset\n",
    "    # calculate parameters\n",
    "    sample_mean =sample.mean()\n",
    "    sample_std = sample.std()\n",
    "    print('Mean=%.3f, Standard Deviation=%.3f' % (sample_mean, sample_std))\n",
    "    # define the distribution\n",
    "    dist = norm(sample_mean, sample_std)\n",
    "    \n",
    "    # sample probabilities for a range of outcomes\n",
    "    values = [value for value in range(startrange, endrange)]\n",
    "    probabilities = [dist.pdf(value) for value in values]    \n",
    "    prob=sum(probabilities)\n",
    "    print(\"The area between range({},{}):{}\".format(startrange,endrange,sum(probabilities)))\n",
    "    return prob\n",
    "    "
   ]
  },
  {
   "cell_type": "code",
   "execution_count": 25,
   "id": "ebbbe06c",
   "metadata": {},
   "outputs": [
    {
     "name": "stderr",
     "output_type": "stream",
     "text": [
      "C:\\Anaconda\\envs\\aiml\\lib\\site-packages\\ipykernel_launcher.py:5: UserWarning: \n",
      "\n",
      "`distplot` is a deprecated function and will be removed in seaborn v0.14.0.\n",
      "\n",
      "Please adapt your code to use either `displot` (a figure-level function with\n",
      "similar flexibility) or `histplot` (an axes-level function for histograms).\n",
      "\n",
      "For a guide to updating your code to use the new functions, please see\n",
      "https://gist.github.com/mwaskom/de44147ed2974457ad6372750bbe5751\n",
      "\n",
      "  \"\"\"\n"
     ]
    },
    {
     "name": "stdout",
     "output_type": "stream",
     "text": [
      "Mean=198702.326, Standard Deviation=154780.927\n",
      "The area between range(700000,900000):0.0005973310593974868\n"
     ]
    },
    {
     "data": {
      "text/plain": [
       "0.0005973310593974868"
      ]
     },
     "execution_count": 25,
     "metadata": {},
     "output_type": "execute_result"
    },
    {
     "data": {
      "image/png": "[encoded data removed]",
      "text/plain": [
       "<Figure size 640x480 with 1 Axes>"
      ]
     },
     "metadata": {},
     "output_type": "display_data"
    }
   ],
   "source": [
    "get_pdf_probability(dataset[\"salary\"],700000,900000)"
   ]
  },
  {
   "cell_type": "markdown",
   "id": "8a4d15d3",
   "metadata": {},
   "source": [
    "### 11. Test the similarity between the degree_t(Sci&Tech)with respect to etest_p and mba_p at significance level of 5%.(Make decision using Hypothesis Testing)"
   ]
  },
  {
   "cell_type": "markdown",
   "id": "6bb3bcbe",
   "metadata": {},
   "source": [
    "#### Statement : Test whether etest_p mark with degree_t(Sci&Tech) and mba_p mark with degree_t(Sci&Tech) are similar?"
   ]
  },
  {
   "cell_type": "markdown",
   "id": "10c64a32",
   "metadata": {},
   "source": [
    "#### Solution"
   ]
  },
  {
   "cell_type": "markdown",
   "id": "7f9956ea",
   "metadata": {},
   "source": [
    "#### H0 - There is no similarity between etest_p mark with degree_t(Sci&Tech) and mba_p mark with degree_t(Sci&Tech)\n",
    "#### H1 - There is a similarity  between etest_p mark with degree_t(Sci&Tech) and mba_p mark with degree_t(Sci&Tech)"
   ]
  },
  {
   "cell_type": "code",
   "execution_count": 26,
   "id": "44223ac0",
   "metadata": {},
   "outputs": [
    {
     "name": "stdout",
     "output_type": "stream",
     "text": [
      "T-statistic: 5.0049844583693615\n",
      "P-value: 5.517920600505392e-06\n"
     ]
    }
   ],
   "source": [
    "from scipy.stats import ttest_rel\n",
    "\n",
    "sci_tech = dataset[(dataset['degree_t'] == 'Sci&Tech')]['etest_p']\n",
    "sci_tech1 = dataset[(dataset['degree_t'] == 'Sci&Tech')]['mba_p']\n",
    "t_stat, p_value = ttest_rel(sci_tech,sci_tech1)\n",
    "\n",
    "print(\"T-statistic:\", t_stat)\n",
    "print(\"P-value:\", p_value)"
   ]
  },
  {
   "cell_type": "markdown",
   "id": "9876c585",
   "metadata": {},
   "source": [
    "#### Conclusion"
   ]
  },
  {
   "cell_type": "markdown",
   "id": "5d0c1ae2",
   "metadata": {},
   "source": [
    "#### For the above statement p-value is greater than 0.05, Hence we accept Null hypothesis, There is no similarity between etest_p mark with degree_t(Sci&Tech) and mba_p mark with degree_t(Sci&Tech)"
   ]
  },
  {
   "cell_type": "markdown",
   "id": "4f36ba93",
   "metadata": {},
   "source": [
    "### 12. Which parameter is highly correlated with salary?"
   ]
  },
  {
   "cell_type": "code",
   "execution_count": 27,
   "id": "4b1f64e7",
   "metadata": {},
   "outputs": [
    {
     "name": "stdout",
     "output_type": "stream",
     "text": [
      "sl_no       0.002543\n",
      "ssc_p       0.538090\n",
      "hsc_p       0.452569\n",
      "degree_p    0.408371\n",
      "etest_p     0.186988\n",
      "mba_p       0.139823\n",
      "Name: salary, dtype: float64\n",
      "\n",
      "Most highly correlated parameter with salary: ssc_p\n"
     ]
    }
   ],
   "source": [
    "#dataset.corr()\n",
    "\n",
    "correlations = dataset.corr()['salary'].drop('salary')\n",
    "print(correlations)\n",
    "print(\"\\nMost highly correlated parameter with salary:\", correlations.idxmax())\n"
   ]
  },
  {
   "cell_type": "markdown",
   "id": "27c7c5c2",
   "metadata": {},
   "source": [
    "### 13. plot any useful graph and explain it."
   ]
  },
  {
   "cell_type": "code",
   "execution_count": 28,
   "id": "36ed91d5",
   "metadata": {},
   "outputs": [
    {
     "data": {
      "image/png": "[encoded data removed]",
      "text/plain": [
       "<Figure size 750x750 with 12 Axes>"
      ]
     },
     "metadata": {},
     "output_type": "display_data"
    }
   ],
   "source": [
    "import seaborn as sns\n",
    "import matplotlib.pyplot as plt\n",
    "\n",
    "df_clean = df[['etest_p', 'mba_p', 'salary']]\n",
    "\n",
    "# Create the pairplot\n",
    "sns.pairplot(df_clean)\n",
    "plt.suptitle('Pairplot: E-Test, MBA % vs Salary', y=1.02)\n",
    "plt.show()"
   ]
  },
  {
   "cell_type": "markdown",
   "id": "cf360b62",
   "metadata": {},
   "source": [
    "#### Explanation :"
   ]
  },
  {
   "cell_type": "markdown",
   "id": "30611d8d",
   "metadata": {},
   "source": [
    "##### The above pairplot shows the relationships between students academic scores (etest_p, mba_p) and their placement salary.\n",
    "\n",
    "##### Histogram:\n",
    "\n",
    "##### etest_p, and mba_p are all somewhat normally distributed.\n",
    "\n",
    "##### salary is right-skewed, meaning most students earn lower salaries, and only a few earn high salaries.\n",
    "\n",
    "##### etest_p vs salary:\n",
    "##### Slight upward trend — students with higher etest scores tend to get higher salaries, but the relationship is weak.\n",
    "\n",
    "##### mba_p vs salary:\n",
    "##### There is a more noticeable upward trend — this implies that students with higher MBA percentages are somewhat more likely to receive higher salaries.\n",
    "\n",
    "##### The pairplot reveals that while etest scores (etest_p) and MBA percentages (mba_p) have weak to moderate positive correlations with placement salary."
   ]
  },
  {
   "cell_type": "code",
   "execution_count": null,
   "id": "ab2fda39",
   "metadata": {},
   "outputs": [],
   "source": []
  }
 ],
 "metadata": {
  "kernelspec": {
   "display_name": "Python 3 (ipykernel)",
   "language": "python",
   "name": "python3"
  },
  "language_info": {
   "codemirror_mode": {
    "name": "ipython",
    "version": 3
   },
   "file_extension": ".py",
   "mimetype": "text/x-python",
   "name": "python",
   "nbconvert_exporter": "python",
   "pygments_lexer": "ipython3",
   "version": "3.7.1"
  }
 },
 "nbformat": 4,
 "nbformat_minor": 5
}
